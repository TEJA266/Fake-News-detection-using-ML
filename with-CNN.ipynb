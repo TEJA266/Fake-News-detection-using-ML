{
 "cells": [
  {
   "cell_type": "markdown",
   "metadata": {},
   "source": [
    "# Introduction: Text Classification with CNNs\n",
    "Hello people, welcome to this kernel. In this kernel I am going to show you how to create a Convolutional Neural Network using Tensorflow to classify texts.\n",
    "\n",
    "Before starting, let's take a look at our table of content\n",
    "\n",
    "# Table of Content\n",
    "1. But CNNs Are For images!?!?\n",
    "1. Preparing Environment\n",
    "1. Preparing Data\n",
    "1. Neural Network Modeling\n",
    "1. EXTRA: How To Make Our Model Ready-to-Deploy?\n",
    "1. Conclusion\n",
    "\n",
    "\n",
    "# But CNNs Are For Images!?!\n",
    "In deep learning, we generally use Convolutional Neural Networks and their variants to classify image data. So most of the people thinks *we can use them only for image data*.\n",
    "\n",
    "But a convolution operator **extracts** features from a data given. And if data has dimension more than one, we can use it with a convolution operator. And if we use **word embeddings** to convert words we can use a Convolutional Neural Network. \n",
    "\n",
    "Let's start.\n"
   ]
  },
  {
   "cell_type": "markdown",
   "metadata": {},
   "source": [
    "# Preparing Environment\n",
    "In this section we'll import libraries and read our data from HDD."
   ]
  },
  {
   "cell_type": "code",
   "execution_count": 22,
   "metadata": {},
   "outputs": [],
   "source": [
    "import pandas as pd\n",
    "import numpy as np\n",
    "import re\n",
    "\n",
    "from tensorflow import keras\n",
    "from tensorflow.keras import layers\n",
    "from tensorflow.keras.preprocessing.text import Tokenizer\n",
    "from tensorflow.keras.preprocessing.sequence import pad_sequences\n",
    "\n",
    "import time\n",
    "from sklearn.model_selection import train_test_split\n",
    "from sklearn.metrics import accuracy_score,confusion_matrix\n",
    "import matplotlib.pyplot as plt\n"
   ]
  },
  {
   "cell_type": "code",
   "execution_count": 23,
   "metadata": {},
   "outputs": [],
   "source": [
    "data_true = pd.read_csv('../input/fake-and-real-news-dataset/True.csv')\n",
    "data_fake = pd.read_csv('../input/fake-and-real-news-dataset/Fake.csv')"
   ]
  },
  {
   "cell_type": "markdown",
   "metadata": {},
   "source": [
    "# Preparing Data\n",
    "In this section we're going to prepare data to use it in our neural network."
   ]
  },
  {
   "cell_type": "code",
   "execution_count": 24,
   "metadata": {},
   "outputs": [
    {
     "data": {
      "text/html": [
       "<div>\n",
       "<style scoped>\n",
       "    .dataframe tbody tr th:only-of-type {\n",
       "        vertical-align: middle;\n",
       "    }\n",
       "\n",
       "    .dataframe tbody tr th {\n",
       "        vertical-align: top;\n",
       "    }\n",
       "\n",
       "    .dataframe thead th {\n",
       "        text-align: right;\n",
       "    }\n",
       "</style>\n",
       "<table border=\"1\" class=\"dataframe\">\n",
       "  <thead>\n",
       "    <tr style=\"text-align: right;\">\n",
       "      <th></th>\n",
       "      <th>title</th>\n",
       "      <th>text</th>\n",
       "      <th>subject</th>\n",
       "      <th>date</th>\n",
       "    </tr>\n",
       "  </thead>\n",
       "  <tbody>\n",
       "    <tr>\n",
       "      <th>0</th>\n",
       "      <td>As U.S. budget fight looms, Republicans flip t...</td>\n",
       "      <td>WASHINGTON (Reuters) - The head of a conservat...</td>\n",
       "      <td>politicsNews</td>\n",
       "      <td>December 31, 2017</td>\n",
       "    </tr>\n",
       "    <tr>\n",
       "      <th>1</th>\n",
       "      <td>U.S. military to accept transgender recruits o...</td>\n",
       "      <td>WASHINGTON (Reuters) - Transgender people will...</td>\n",
       "      <td>politicsNews</td>\n",
       "      <td>December 29, 2017</td>\n",
       "    </tr>\n",
       "    <tr>\n",
       "      <th>2</th>\n",
       "      <td>Senior U.S. Republican senator: 'Let Mr. Muell...</td>\n",
       "      <td>WASHINGTON (Reuters) - The special counsel inv...</td>\n",
       "      <td>politicsNews</td>\n",
       "      <td>December 31, 2017</td>\n",
       "    </tr>\n",
       "    <tr>\n",
       "      <th>3</th>\n",
       "      <td>FBI Russia probe helped by Australian diplomat...</td>\n",
       "      <td>WASHINGTON (Reuters) - Trump campaign adviser ...</td>\n",
       "      <td>politicsNews</td>\n",
       "      <td>December 30, 2017</td>\n",
       "    </tr>\n",
       "    <tr>\n",
       "      <th>4</th>\n",
       "      <td>Trump wants Postal Service to charge 'much mor...</td>\n",
       "      <td>SEATTLE/WASHINGTON (Reuters) - President Donal...</td>\n",
       "      <td>politicsNews</td>\n",
       "      <td>December 29, 2017</td>\n",
       "    </tr>\n",
       "  </tbody>\n",
       "</table>\n",
       "</div>"
      ],
      "text/plain": [
       "                                               title  \\\n",
       "0  As U.S. budget fight looms, Republicans flip t...   \n",
       "1  U.S. military to accept transgender recruits o...   \n",
       "2  Senior U.S. Republican senator: 'Let Mr. Muell...   \n",
       "3  FBI Russia probe helped by Australian diplomat...   \n",
       "4  Trump wants Postal Service to charge 'much mor...   \n",
       "\n",
       "                                                text       subject  \\\n",
       "0  WASHINGTON (Reuters) - The head of a conservat...  politicsNews   \n",
       "1  WASHINGTON (Reuters) - Transgender people will...  politicsNews   \n",
       "2  WASHINGTON (Reuters) - The special counsel inv...  politicsNews   \n",
       "3  WASHINGTON (Reuters) - Trump campaign adviser ...  politicsNews   \n",
       "4  SEATTLE/WASHINGTON (Reuters) - President Donal...  politicsNews   \n",
       "\n",
       "                 date  \n",
       "0  December 31, 2017   \n",
       "1  December 29, 2017   \n",
       "2  December 31, 2017   \n",
       "3  December 30, 2017   \n",
       "4  December 29, 2017   "
      ]
     },
     "execution_count": 24,
     "metadata": {},
     "output_type": "execute_result"
    }
   ],
   "source": [
    "data_true.head()"
   ]
  },
  {
   "cell_type": "markdown",
   "metadata": {},
   "source": [
    "* We can drop title, subject and date.\n",
    "* Also we need to add a label which will be 1"
   ]
  },
  {
   "cell_type": "code",
   "execution_count": 25,
   "metadata": {},
   "outputs": [
    {
     "name": "stdout",
     "output_type": "stream",
     "text": [
      "<class 'pandas.core.frame.DataFrame'>\n",
      "Int64Index: 44898 entries, 0 to 23480\n",
      "Data columns (total 5 columns):\n",
      " #   Column   Non-Null Count  Dtype \n",
      "---  ------   --------------  ----- \n",
      " 0   title    44898 non-null  object\n",
      " 1   text     44898 non-null  object\n",
      " 2   subject  44898 non-null  object\n",
      " 3   date     44898 non-null  object\n",
      " 4   label    44898 non-null  int64 \n",
      "dtypes: int64(1), object(4)\n",
      "memory usage: 2.1+ MB\n"
     ]
    }
   ],
   "source": [
    "data_true[\"label\"] = 1\n",
    "data_fake[\"label\"] = 0\n",
    "data = pd.concat([data_true,data_fake],0)\n",
    "data.info()"
   ]
  },
  {
   "cell_type": "code",
   "execution_count": 26,
   "metadata": {},
   "outputs": [
    {
     "data": {
      "text/html": [
       "<div>\n",
       "<style scoped>\n",
       "    .dataframe tbody tr th:only-of-type {\n",
       "        vertical-align: middle;\n",
       "    }\n",
       "\n",
       "    .dataframe tbody tr th {\n",
       "        vertical-align: top;\n",
       "    }\n",
       "\n",
       "    .dataframe thead th {\n",
       "        text-align: right;\n",
       "    }\n",
       "</style>\n",
       "<table border=\"1\" class=\"dataframe\">\n",
       "  <thead>\n",
       "    <tr style=\"text-align: right;\">\n",
       "      <th></th>\n",
       "      <th>text</th>\n",
       "      <th>label</th>\n",
       "    </tr>\n",
       "  </thead>\n",
       "  <tbody>\n",
       "    <tr>\n",
       "      <th>0</th>\n",
       "      <td>WASHINGTON (Reuters) - The head of a conservat...</td>\n",
       "      <td>1</td>\n",
       "    </tr>\n",
       "    <tr>\n",
       "      <th>1</th>\n",
       "      <td>WASHINGTON (Reuters) - Transgender people will...</td>\n",
       "      <td>1</td>\n",
       "    </tr>\n",
       "    <tr>\n",
       "      <th>2</th>\n",
       "      <td>WASHINGTON (Reuters) - The special counsel inv...</td>\n",
       "      <td>1</td>\n",
       "    </tr>\n",
       "    <tr>\n",
       "      <th>3</th>\n",
       "      <td>WASHINGTON (Reuters) - Trump campaign adviser ...</td>\n",
       "      <td>1</td>\n",
       "    </tr>\n",
       "    <tr>\n",
       "      <th>4</th>\n",
       "      <td>SEATTLE/WASHINGTON (Reuters) - President Donal...</td>\n",
       "      <td>1</td>\n",
       "    </tr>\n",
       "  </tbody>\n",
       "</table>\n",
       "</div>"
      ],
      "text/plain": [
       "                                                text  label\n",
       "0  WASHINGTON (Reuters) - The head of a conservat...      1\n",
       "1  WASHINGTON (Reuters) - Transgender people will...      1\n",
       "2  WASHINGTON (Reuters) - The special counsel inv...      1\n",
       "3  WASHINGTON (Reuters) - Trump campaign adviser ...      1\n",
       "4  SEATTLE/WASHINGTON (Reuters) - President Donal...      1"
      ]
     },
     "execution_count": 26,
     "metadata": {},
     "output_type": "execute_result"
    }
   ],
   "source": [
    "data = data.loc[:,[\"text\",\"label\"]]\n",
    "data.head()"
   ]
  },
  {
   "cell_type": "code",
   "execution_count": 27,
   "metadata": {},
   "outputs": [],
   "source": [
    "x = data[\"text\"]\n",
    "y = data[\"label\"]"
   ]
  },
  {
   "cell_type": "markdown",
   "metadata": {},
   "source": [
    "* Now we're going to define a function which will clean data."
   ]
  },
  {
   "cell_type": "code",
   "execution_count": 28,
   "metadata": {},
   "outputs": [],
   "source": [
    "def cleanText(text):\n",
    "    cleaned = re.sub(\"[^'a-zA-Z0-9]\",\" \",text)\n",
    "    lowered = cleaned.lower().strip()\n",
    "    return lowered"
   ]
  },
  {
   "cell_type": "markdown",
   "metadata": {},
   "source": [
    "* Let's test our function."
   ]
  },
  {
   "cell_type": "code",
   "execution_count": 29,
   "metadata": {},
   "outputs": [
    {
     "data": {
      "text/plain": [
       "'test    yup     okay'"
      ]
     },
     "execution_count": 29,
     "metadata": {},
     "output_type": "execute_result"
    }
   ],
   "source": [
    "cleanText(\"Test .* yup *?! okay!.\")"
   ]
  },
  {
   "cell_type": "code",
   "execution_count": 30,
   "metadata": {},
   "outputs": [
    {
     "name": "stdout",
     "output_type": "stream",
     "text": [
      "This process took 8.06 seconds\n"
     ]
    }
   ],
   "source": [
    "st = time.time()\n",
    "x_cleaned = [cleanText(t) for t in x]\n",
    "print(\"This process took {} seconds\".format(round(time.time()-st,2)))"
   ]
  },
  {
   "cell_type": "code",
   "execution_count": 31,
   "metadata": {},
   "outputs": [
    {
     "data": {
      "text/plain": [
       "'washington  reuters    the head of a conservative republican faction in the u s  congress  who voted this month for a huge expansion of the national debt to pay for tax cuts  called himself a  fiscal conservative  on sunday and urged budget restraint in 2018  in keeping with a sharp pivot under way among republicans  u s  representative mark meadows  speaking on cbs   face the nation   drew a hard line on federal spending  which lawmakers are bracing to do battle over in january  when they return from the holidays on wednesday  lawmakers will begin trying to pass a federal budget in a fight likely to be linked to other issues  such as immigration policy  even as the november congressional election campaigns approach in which republicans will seek to keep control of congress  president donald trump and his republicans want a big budget increase in military spending  while democrats also want proportional increases for non defense  discretionary  spending on programs that support education  scientific research  infrastructure  public health and environmental protection   the  trump  administration has already been willing to say   we re going to increase non defense discretionary spending     by about 7 percent    meadows  chairman of the small but influential house freedom caucus  said on the program   now  democrats are saying that s not enough  we need to give the government a pay raise of 10 to 11 percent  for a fiscal conservative  i don t see where the rationale is      eventually you run out of other people s money   he said  meadows was among republicans who voted in late december for their party s debt financed tax overhaul  which is expected to balloon the federal budget deficit and add about  1 5 trillion over 10 years to the  20 trillion national debt   it s interesting to hear mark talk about fiscal responsibility   democratic u s  representative joseph crowley said on cbs  crowley said the republican tax bill would require the  united states to borrow  1 5 trillion  to be paid off by future generations  to finance tax cuts for corporations and the rich   this is one of the least     fiscally responsible bills we ve ever seen passed in the history of the house of representatives  i think we re going to be paying for this for many  many years to come   crowley said  republicans insist the tax package  the biggest u s  tax overhaul in more than 30 years   will boost the economy and job growth  house speaker paul ryan  who also supported the tax bill  recently went further than meadows  making clear in a radio interview that welfare or  entitlement reform   as the party often calls it  would be a top republican priority in 2018  in republican parlance   entitlement  programs mean food stamps  housing assistance  medicare and medicaid health insurance for the elderly  poor and disabled  as well as other programs created by washington to assist the needy  democrats seized on ryan s early december remarks  saying they showed republicans would try to pay for their tax overhaul by seeking spending cuts for social programs  but the goals of house republicans may have to take a back seat to the senate  where the votes of some democrats will be needed to approve a budget and prevent a government shutdown  democrats will use their leverage in the senate  which republicans narrowly control  to defend both discretionary non defense programs and social spending  while tackling the issue of the  dreamers   people brought illegally to the country as children  trump in september put a march 2018 expiration date on the deferred action for childhood arrivals  or daca  program  which protects the young immigrants from deportation and provides them with work permits  the president has said in recent twitter messages he wants funding for his proposed mexican border wall and other immigration law changes in exchange for agreeing to help the dreamers  representative debbie dingell told cbs she did not favor linking that issue to other policy objectives  such as wall funding   we need to do daca clean   she said   on wednesday  trump aides will meet with congressional leaders to discuss those issues  that will be followed by a weekend of strategy sessions for trump and republican leaders on jan  6 and 7  the white house said  trump was also scheduled to meet on sunday with florida republican governor rick scott  who wants more emergency aid  the house has passed an  81 billion aid package after hurricanes in florida  texas and puerto rico  and wildfires in california  the package far exceeded the  44 billion requested by the trump administration  the senate has not yet voted on the aid'"
      ]
     },
     "execution_count": 31,
     "metadata": {},
     "output_type": "execute_result"
    }
   ],
   "source": [
    "x_cleaned[0]"
   ]
  },
  {
   "cell_type": "markdown",
   "metadata": {},
   "source": [
    "* Now we'll tokenize our data using Tensorflow's tokenizer."
   ]
  },
  {
   "cell_type": "code",
   "execution_count": 32,
   "metadata": {},
   "outputs": [
    {
     "name": "stdout",
     "output_type": "stream",
     "text": [
      "This process took 22.78 seconds\n"
     ]
    }
   ],
   "source": [
    "st = time.time()\n",
    "tokenizer = Tokenizer(num_words=5000)\n",
    "tokenizer.fit_on_texts(x_cleaned)\n",
    "x_tokenized = tokenizer.texts_to_sequences(x_cleaned)\n",
    "print(\"This process took {} seconds\".format(round(time.time()-st,2)))"
   ]
  },
  {
   "cell_type": "code",
   "execution_count": 33,
   "metadata": {},
   "outputs": [
    {
     "name": "stdout",
     "output_type": "stream",
     "text": [
      "[106, 66, 1, 440, 3, 4, 318, 78, 6, 1, 37, 7, 201, 29, 828, 26, 256, 10, 4, 1254, 3007, 3, 1, 128, 981, 2, 474, 10, 189, 1285, 158, 411, 4, 1405, 318, 9, 347, 5, 1144, 527, 6, 1225, 6, 1787, 16, 4, 3337, 147, 165, 335, 143, 37, 7, 827, 918, 621, 9, 1946, 473, 1, 322, 1772, 4, 528, 583, 9, 180, 731, 49, 459, 28, 2, 90, 1421, 68, 6, 425, 59, 31, 796, 25, 1, 9, 203, 459, 40, 1466, 386, 2, 901, 4, 180, 527, 6, 4, 545, 331, 2, 22, 1732, 2, 80, 455, 177, 18, 325, 219, 109, 18, 1, 494, 605, 97, 2060, 1523, 6, 49, 143, 40, 1201, 2, 418, 364, 3, 201, 35, 71, 12, 5, 19, 143, 188, 4, 424, 527, 995, 6, 179, 731, 108, 213, 61, 188, 3574, 10, 738, 387, 731, 9, 1016, 8, 160, 1013, 4113, 1098, 1478, 175, 324, 5, 1415, 1233, 1, 12, 146, 21, 308, 44, 1384, 2, 129, 33, 121, 142, 2, 995, 738, 387, 731, 20, 39, 579, 138, 614, 3, 1, 758, 34, 3504, 73, 803, 2196, 14, 9, 1, 341, 99, 213, 28, 187, 8, 7, 24, 487, 33, 240, 2, 427, 1, 72, 4, 474, 1361, 3, 329, 2, 581, 138, 10, 4, 1405, 318, 32, 159, 38, 192, 139, 1, 11, 1910, 42, 420, 56, 3, 80, 45, 7, 277, 13, 14, 17, 335, 143, 29, 828, 6, 617, 634, 10, 41, 100, 7, 981, 189, 2428, 49, 11, 470, 2, 1, 180, 527, 2322, 5, 2050, 39, 190, 319, 2348, 68, 329, 118, 2, 1, 434, 2348, 128, 981, 15, 7, 2324, 2, 1195, 918, 622, 39, 1405, 1484, 156, 37, 7, 827, 2872, 14, 9, 1946, 14, 1, 78, 189, 155, 36, 1673, 1, 85, 76, 2, 190, 319, 2348, 2, 22, 860, 215, 20, 558, 4547, 2, 1365, 189, 1285, 10, 2429, 5, 1, 1180, 26, 11, 51, 3, 1, 367, 1189, 1991, 33, 298, 421, 371, 868, 6, 1, 486, 3, 1, 73, 3, 679, 32, 170, 33, 121, 142, 2, 22, 1522, 10, 26, 10, 119, 119, 118, 2, 266, 14, 143, 4723, 1, 189, 2585, 1, 862, 37, 7, 189, 2428, 6, 48, 79, 561, 118, 40, 1939, 1, 599, 5, 467, 1309, 73, 1042, 629, 556, 29, 61, 1280, 1, 189, 155, 705, 399, 534, 79, 372, 327, 6, 4, 1086, 312, 8, 2774, 47, 686, 18, 1, 100, 749, 795, 15, 36, 22, 4, 280, 78, 2412, 6, 1225, 6, 78, 1016, 889, 957, 1719, 1820, 4212, 5, 2003, 324, 855, 10, 1, 4417, 1145, 5, 3669, 18, 172, 18, 80, 1016, 992, 20, 106, 2, 1, 213, 2740, 9, 556, 7, 560, 634, 933, 187, 31, 661, 143, 36, 729, 2, 474, 10, 41, 189, 2428, 20, 971, 731, 1285, 10, 343, 1016, 34, 1, 3413, 3, 73, 143, 127, 23, 2, 176, 4, 148, 1422, 2, 1, 161, 139, 1, 612, 3, 83, 213, 40, 22, 786, 2, 2675, 4, 527, 5, 1134, 4, 72, 4149, 213, 40, 259, 41, 6, 1, 161, 49, 143, 364, 2, 1324, 194, 738, 387, 1016, 5, 343, 731, 108, 1, 344, 3, 1, 4489, 45, 919, 1767, 2, 1, 107, 18, 342, 12, 6, 653, 279, 4, 396, 1225, 1790, 9, 1, 450, 10, 4951, 4271, 47, 2983, 341, 49, 1, 602, 663, 25, 2966, 5, 2624, 92, 16, 207, 4523, 1, 35, 21, 14, 6, 358, 140, 2218, 13, 508, 723, 10, 19, 994, 1303, 338, 445, 5, 80, 325, 125, 1036, 6, 1298, 10, 2, 238, 1, 4489, 827, 4921, 86, 1946, 50, 115, 24, 1221, 8, 344, 2, 80, 219, 177, 18, 445, 723, 33, 240, 2, 90, 2983, 1833, 50, 14, 9, 203, 12, 1583, 40, 755, 16, 605, 300, 2, 1070, 132, 455, 8, 40, 22, 1445, 20, 4, 1315, 3, 1286, 943, 10, 12, 5, 78, 300, 9, 1429, 559, 5, 579, 1, 89, 73, 14, 12, 17, 61, 1532, 2, 755, 9, 347, 16, 649, 78, 435, 2743, 1510, 29, 508, 48, 1506, 975, 1, 73, 21, 868, 30, 346, 975, 2585, 52, 6, 649, 582, 5, 1411, 1553, 5, 6, 743, 1, 2585, 274, 1, 3338, 346, 2554, 20, 1, 12, 146, 1, 161, 21, 24, 369, 828, 9, 1, 975]\n"
     ]
    }
   ],
   "source": [
    "print(x_tokenized[0])"
   ]
  },
  {
   "cell_type": "markdown",
   "metadata": {},
   "source": [
    "* Now we need to pad our sequences, in order to find the true length, I'll use the third quartile of the length array (array which has the lengths of the sequences)"
   ]
  },
  {
   "cell_type": "code",
   "execution_count": 34,
   "metadata": {},
   "outputs": [
    {
     "name": "stdout",
     "output_type": "stream",
     "text": [
      "474\n"
     ]
    }
   ],
   "source": [
    "length_array = [len(s) for s in x_tokenized]\n",
    "SEQUENCE_LENGTH = int(np.quantile(length_array,0.75))\n",
    "print(SEQUENCE_LENGTH)"
   ]
  },
  {
   "cell_type": "markdown",
   "metadata": {},
   "source": [
    "* And let's pad."
   ]
  },
  {
   "cell_type": "code",
   "execution_count": 35,
   "metadata": {},
   "outputs": [],
   "source": [
    "x_padded = pad_sequences(x_tokenized,maxlen=SEQUENCE_LENGTH)"
   ]
  },
  {
   "cell_type": "code",
   "execution_count": 36,
   "metadata": {},
   "outputs": [
    {
     "data": {
      "text/plain": [
       "(44898, 474)"
      ]
     },
     "execution_count": 36,
     "metadata": {},
     "output_type": "execute_result"
    }
   ],
   "source": [
    "x_padded.shape"
   ]
  },
  {
   "cell_type": "markdown",
   "metadata": {},
   "source": [
    "* Our text data is ready to use, let's split our dataset into train and test sets."
   ]
  },
  {
   "cell_type": "code",
   "execution_count": 37,
   "metadata": {},
   "outputs": [],
   "source": [
    "x_train,x_test,y_train,y_test = train_test_split(x_padded,y,test_size=0.2,random_state=42)"
   ]
  },
  {
   "cell_type": "code",
   "execution_count": 38,
   "metadata": {},
   "outputs": [
    {
     "name": "stdout",
     "output_type": "stream",
     "text": [
      "(35918, 474)\n",
      "(8980, 474)\n",
      "(35918,)\n",
      "(8980,)\n"
     ]
    }
   ],
   "source": [
    "print(x_train.shape)\n",
    "print(x_test.shape)\n",
    "print(y_train.shape)\n",
    "print(y_test.shape)"
   ]
  },
  {
   "cell_type": "markdown",
   "metadata": {},
   "source": [
    "# Neural Network Modeling\n",
    "In this section I'm going to build and train our convolutional neural network using keras' sequential api."
   ]
  },
  {
   "cell_type": "code",
   "execution_count": 39,
   "metadata": {},
   "outputs": [],
   "source": [
    "# We've added 1 because or word index has numbers from 1 to end but we've added\n",
    "# 0 tokens in padding so our vocab now has len(tokenizer.word_index) + 1\n",
    "VOCAB_LENGTH = len(tokenizer.word_index) + 1\n",
    "VECTOR_SIZE = 100\n",
    "\n",
    "def getModel():\n",
    "    \"\"\"\n",
    "    Returns a trainable Sigmoid Convolutional Neural Network\n",
    "    \"\"\"\n",
    "    model = keras.Sequential()\n",
    "    model.add(layers.Embedding(input_dim=VOCAB_LENGTH,\n",
    "                               output_dim=VECTOR_SIZE,\n",
    "                               input_length=SEQUENCE_LENGTH\n",
    "                              ))\n",
    "    \n",
    "    model.add(layers.Conv1D(128,kernel_size=4))\n",
    "    model.add(layers.BatchNormalization())\n",
    "    model.add(layers.Activation(\"relu\"))\n",
    "    model.add(layers.MaxPooling1D(2))\n",
    "    \n",
    "    model.add(layers.Conv1D(256,kernel_size=4))\n",
    "    model.add(layers.BatchNormalization())\n",
    "    model.add(layers.Activation(\"relu\"))\n",
    "    model.add(layers.MaxPooling1D(2))\n",
    "    \n",
    "    model.add(layers.Conv1D(512,kernel_size=4))\n",
    "    model.add(layers.BatchNormalization())\n",
    "    model.add(layers.Activation(\"relu\"))\n",
    "    model.add(layers.MaxPooling1D(2))\n",
    "    \n",
    "    model.add(layers.Flatten())\n",
    "    model.add(layers.Dense(1,activation=\"sigmoid\"))\n",
    "    \n",
    "    model.compile(loss=\"binary_crossentropy\",optimizer=\"adam\",metrics=[\"accuracy\"])\n",
    "    \n",
    "    return model"
   ]
  },
  {
   "cell_type": "code",
   "execution_count": 40,
   "metadata": {},
   "outputs": [
    {
     "name": "stdout",
     "output_type": "stream",
     "text": [
      "Model: \"sequential_1\"\n",
      "_________________________________________________________________\n",
      "Layer (type)                 Output Shape              Param #   \n",
      "=================================================================\n",
      "embedding_1 (Embedding)      (None, 474, 100)          12236200  \n",
      "_________________________________________________________________\n",
      "conv1d_3 (Conv1D)            (None, 471, 128)          51328     \n",
      "_________________________________________________________________\n",
      "batch_normalization_3 (Batch (None, 471, 128)          512       \n",
      "_________________________________________________________________\n",
      "activation_3 (Activation)    (None, 471, 128)          0         \n",
      "_________________________________________________________________\n",
      "max_pooling1d_3 (MaxPooling1 (None, 235, 128)          0         \n",
      "_________________________________________________________________\n",
      "conv1d_4 (Conv1D)            (None, 232, 256)          131328    \n",
      "_________________________________________________________________\n",
      "batch_normalization_4 (Batch (None, 232, 256)          1024      \n",
      "_________________________________________________________________\n",
      "activation_4 (Activation)    (None, 232, 256)          0         \n",
      "_________________________________________________________________\n",
      "max_pooling1d_4 (MaxPooling1 (None, 116, 256)          0         \n",
      "_________________________________________________________________\n",
      "conv1d_5 (Conv1D)            (None, 113, 512)          524800    \n",
      "_________________________________________________________________\n",
      "batch_normalization_5 (Batch (None, 113, 512)          2048      \n",
      "_________________________________________________________________\n",
      "activation_5 (Activation)    (None, 113, 512)          0         \n",
      "_________________________________________________________________\n",
      "max_pooling1d_5 (MaxPooling1 (None, 56, 512)           0         \n",
      "_________________________________________________________________\n",
      "flatten_1 (Flatten)          (None, 28672)             0         \n",
      "_________________________________________________________________\n",
      "dense_1 (Dense)              (None, 1)                 28673     \n",
      "=================================================================\n",
      "Total params: 12,975,913\n",
      "Trainable params: 12,974,121\n",
      "Non-trainable params: 1,792\n",
      "_________________________________________________________________\n"
     ]
    }
   ],
   "source": [
    "model = getModel()\n",
    "model.summary()"
   ]
  },
  {
   "cell_type": "code",
   "execution_count": 41,
   "metadata": {},
   "outputs": [
    {
     "name": "stdout",
     "output_type": "stream",
     "text": [
      "1123/1123 [==============================] - 220s 194ms/step - loss: 0.3743 - accuracy: 0.8962 - val_loss: 0.1876 - val_accuracy: 0.9329\n"
     ]
    }
   ],
   "source": [
    "history = model.fit(x_train,y_train,validation_data=(x_test,y_test),epochs=1)"
   ]
  },
  {
   "cell_type": "markdown",
   "metadata": {},
   "source": [
    "* 1 epoch and %93 validation accuracy, this is how a convolutional neural network works with text data "
   ]
  },
  {
   "cell_type": "markdown",
   "metadata": {},
   "source": [
    "# EXTRA: How To Make Our Model Ready-to-Deploy?\n",
    "Before finishing this kernel, I wanna show you one more thing, an important one. How to make a model ready to deploy using a web library or framework like Flask or Django.\n",
    "\n",
    "Let's start."
   ]
  },
  {
   "cell_type": "markdown",
   "metadata": {},
   "source": [
    "* First we'll save weights of our model and pickle our tokenizer."
   ]
  },
  {
   "cell_type": "code",
   "execution_count": 42,
   "metadata": {},
   "outputs": [],
   "source": [
    "model.save_weights(\"trained_model.h5\")"
   ]
  },
  {
   "cell_type": "code",
   "execution_count": 43,
   "metadata": {},
   "outputs": [],
   "source": [
    "import pickle\n",
    "with open(\"tokenizer.pickle\",mode=\"wb\") as F:\n",
    "    pickle.dump(tokenizer,F)\n"
   ]
  },
  {
   "cell_type": "markdown",
   "metadata": {},
   "source": [
    "* Also let's save our label map using json library."
   ]
  },
  {
   "cell_type": "code",
   "execution_count": 44,
   "metadata": {},
   "outputs": [],
   "source": [
    "import json\n",
    "label_map = {0:\"Fake\",\n",
    "             1:\"Real\"\n",
    "            }\n",
    "\n",
    "json.dump(label_map,open(\"label_map.json\",mode=\"w\"))"
   ]
  },
  {
   "cell_type": "markdown",
   "metadata": {},
   "source": [
    "* And now we'll write a class which will have a function to predict data."
   ]
  },
  {
   "cell_type": "code",
   "execution_count": 93,
   "metadata": {},
   "outputs": [],
   "source": [
    "class DeployModel():\n",
    "    \n",
    "    def __init__(self,weights_path,tokenizer_path,seq_length,label_map_path\n",
    "                ):\n",
    "        \n",
    "        self.model = getModel()\n",
    "        self.model.load_weights(weights_path)\n",
    "        self.tokenizer = pickle.load(open(tokenizer_path,mode=\"rb\"))\n",
    "        self.seq_len = seq_length\n",
    "        self.label_map = json.load(open(label_map_path))\n",
    "    \n",
    "    def _prepare_data(self,text):\n",
    "        \n",
    "        cleaned = cleanText(text)\n",
    "        tokenized = self.tokenizer.texts_to_sequences([cleaned])\n",
    "        padded = pad_sequences(tokenized,maxlen=self.seq_len)\n",
    "        return padded\n",
    "    \n",
    "    def _predict(self,text):\n",
    "        \n",
    "        text = self._prepare_data(text)\n",
    "        pred = int(self.model.predict_classes(text)[0])\n",
    "        return str(pred)\n",
    "    \n",
    "    def result(self,text):\n",
    "        \n",
    "        pred = self._predict(text)\n",
    "        return self.label_map[pred]"
   ]
  },
  {
   "cell_type": "markdown",
   "metadata": {},
   "source": [
    "* And let's create an object using our class."
   ]
  },
  {
   "cell_type": "code",
   "execution_count": 94,
   "metadata": {},
   "outputs": [],
   "source": [
    "deploy_model = DeployModel(weights_path=\"./trained_model.h5\",\n",
    "                           tokenizer_path=\"./tokenizer.pickle\",\n",
    "                           seq_length=SEQUENCE_LENGTH,\n",
    "                           label_map_path=\"./label_map.json\"\n",
    "                          )"
   ]
  },
  {
   "cell_type": "code",
   "execution_count": 60,
   "metadata": {},
   "outputs": [],
   "source": [
    "test_text = x_cleaned[0]"
   ]
  },
  {
   "cell_type": "code",
   "execution_count": 95,
   "metadata": {},
   "outputs": [
    {
     "name": "stdout",
     "output_type": "stream",
     "text": [
      "washington  reuters    the head of a conservative republican faction in the u s  congress  who voted this month for a huge expansion of the national debt to pay for tax cuts  called himself a  fiscal conservative  on sunday and urged budget restraint in 2018  in keeping with a sharp pivot under way among republicans  u s  representative mark meadows  speaking on cbs   face the nation   drew a hard line on federal spending  which lawmakers are bracing to do battle over in january  when they return from the holidays on wednesday  lawmakers will begin trying to pass a federal budget in a fight likely to be linked to other issues  such as immigration policy  even as the november congressional election campaigns approach in which republicans will seek to keep control of congress  president donald trump and his republicans want a big budget increase in military spending  while democrats also want proportional increases for non defense  discretionary  spending on programs that support education  scientific research  infrastructure  public health and environmental protection   the  trump  administration has already been willing to say   we re going to increase non defense discretionary spending     by about 7 percent    meadows  chairman of the small but influential house freedom caucus  said on the program   now  democrats are saying that s not enough  we need to give the government a pay raise of 10 to 11 percent  for a fiscal conservative  i don t see where the rationale is      eventually you run out of other people s money   he said  meadows was among republicans who voted in late december for their party s debt financed tax overhaul  which is expected to balloon the federal budget deficit and add about  1 5 trillion over 10 years to the  20 trillion national debt   it s interesting to hear mark talk about fiscal responsibility   democratic u s  representative joseph crowley said on cbs  crowley said the republican tax bill would require the  united states to borrow  1 5 trillion  to be paid off by future generations  to finance tax cuts for corporations and the rich   this is one of the least     fiscally responsible bills we ve ever seen passed in the history of the house of representatives  i think we re going to be paying for this for many  many years to come   crowley said  republicans insist the tax package  the biggest u s  tax overhaul in more than 30 years   will boost the economy and job growth  house speaker paul ryan  who also supported the tax bill  recently went further than meadows  making clear in a radio interview that welfare or  entitlement reform   as the party often calls it  would be a top republican priority in 2018  in republican parlance   entitlement  programs mean food stamps  housing assistance  medicare and medicaid health insurance for the elderly  poor and disabled  as well as other programs created by washington to assist the needy  democrats seized on ryan s early december remarks  saying they showed republicans would try to pay for their tax overhaul by seeking spending cuts for social programs  but the goals of house republicans may have to take a back seat to the senate  where the votes of some democrats will be needed to approve a budget and prevent a government shutdown  democrats will use their leverage in the senate  which republicans narrowly control  to defend both discretionary non defense programs and social spending  while tackling the issue of the  dreamers   people brought illegally to the country as children  trump in september put a march 2018 expiration date on the deferred action for childhood arrivals  or daca  program  which protects the young immigrants from deportation and provides them with work permits  the president has said in recent twitter messages he wants funding for his proposed mexican border wall and other immigration law changes in exchange for agreeing to help the dreamers  representative debbie dingell told cbs she did not favor linking that issue to other policy objectives  such as wall funding   we need to do daca clean   she said   on wednesday  trump aides will meet with congressional leaders to discuss those issues  that will be followed by a weekend of strategy sessions for trump and republican leaders on jan  6 and 7  the white house said  trump was also scheduled to meet on sunday with florida republican governor rick scott  who wants more emergency aid  the house has passed an  81 billion aid package after hurricanes in florida  texas and puerto rico  and wildfires in california  the package far exceeded the  44 billion requested by the trump administration  the senate has not yet voted on the aid\n",
      "\n",
      "\n",
      "===========================\n",
      "Results:  Real\n"
     ]
    }
   ],
   "source": [
    "print(test_text)\n",
    "print(\"\\n\\n===========================\")\n",
    "print(\"Results: \",deploy_model.result(test_text))"
   ]
  },
  {
   "cell_type": "markdown",
   "metadata": {},
   "source": [
    "* And yes, it was real!"
   ]
  }
 ],
 "metadata": {
  "kernelspec": {
   "display_name": "Python 3",
   "language": "python",
   "name": "python3"
  },
  "language_info": {
   "codemirror_mode": {
    "name": "ipython",
    "version": 3
   },
   "file_extension": ".py",
   "mimetype": "text/x-python",
   "name": "python",
   "nbconvert_exporter": "python",
   "pygments_lexer": "ipython3",
   "version": "3.8.8"
  }
 },
 "nbformat": 4,
 "nbformat_minor": 4
}
